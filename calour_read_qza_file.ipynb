{
 "cells": [
  {
   "cell_type": "code",
   "execution_count": 1,
   "metadata": {
    "ExecuteTime": {
     "end_time": "2020-09-22T01:35:43.644342Z",
     "start_time": "2020-09-22T01:35:22.809526Z"
    }
   },
   "outputs": [],
   "source": [
    "import calour as ca"
   ]
  },
  {
   "cell_type": "code",
   "execution_count": 5,
   "metadata": {
    "ExecuteTime": {
     "end_time": "2020-09-22T01:37:56.046392Z",
     "start_time": "2020-09-22T01:37:56.041985Z"
    }
   },
   "outputs": [],
   "source": [
    "ca.set_log_level(11)\n"
   ]
  },
  {
   "cell_type": "code",
   "execution_count": 3,
   "metadata": {
    "ExecuteTime": {
     "end_time": "2020-09-22T01:35:44.068815Z",
     "start_time": "2020-09-22T01:35:43.656227Z"
    }
   },
   "outputs": [],
   "source": [
    "%matplotlib notebook"
   ]
  },
  {
   "cell_type": "code",
   "execution_count": 4,
   "metadata": {
    "ExecuteTime": {
     "end_time": "2020-09-22T01:35:50.184577Z",
     "start_time": "2020-09-22T01:35:50.131330Z"
    }
   },
   "outputs": [],
   "source": [
    "ca.read_amplicon?"
   ]
  },
  {
   "cell_type": "code",
   "execution_count": 6,
   "metadata": {
    "ExecuteTime": {
     "end_time": "2020-09-22T01:52:21.659466Z",
     "start_time": "2020-09-22T01:38:55.714159Z"
    }
   },
   "outputs": [
    {
     "name": "stdout",
     "output_type": "stream",
     "text": [
      "2020-09-22 09:39:34 INFO loaded 745 samples, 23614704 features\n"
     ]
    }
   ],
   "source": [
    "dat=ca.read_amplicon('/beegfs/projects/20190707-HP-eradication/analyses/PRJNA428883/closed-ref/table.qza',data_file_type='qiime2',\n",
    "                     normalize=None,min_reads=None)\n"
   ]
  },
  {
   "cell_type": "code",
   "execution_count": 7,
   "metadata": {
    "ExecuteTime": {
     "end_time": "2020-09-22T01:54:29.468189Z",
     "start_time": "2020-09-22T01:54:29.302987Z"
    }
   },
   "outputs": [
    {
     "data": {
      "text/plain": [
       "40569232.0"
      ]
     },
     "execution_count": 7,
     "metadata": {},
     "output_type": "execute_result"
    }
   ],
   "source": [
    "dat.data.sum()"
   ]
  },
  {
   "cell_type": "code",
   "execution_count": null,
   "metadata": {},
   "outputs": [],
   "source": []
  },
  {
   "cell_type": "code",
   "execution_count": null,
   "metadata": {},
   "outputs": [],
   "source": []
  },
  {
   "cell_type": "code",
   "execution_count": null,
   "metadata": {},
   "outputs": [],
   "source": []
  }
 ],
 "metadata": {
  "kernelspec": {
   "display_name": "calour",
   "language": "python",
   "name": "calour"
  },
  "language_info": {
   "codemirror_mode": {
    "name": "ipython",
    "version": 3
   },
   "file_extension": ".py",
   "mimetype": "text/x-python",
   "name": "python",
   "nbconvert_exporter": "python",
   "pygments_lexer": "ipython3",
   "version": "3.8.5"
  },
  "toc": {
   "base_numbering": 1,
   "nav_menu": {},
   "number_sections": true,
   "sideBar": true,
   "skip_h1_title": false,
   "title_cell": "Table of Contents",
   "title_sidebar": "Contents",
   "toc_cell": false,
   "toc_position": {},
   "toc_section_display": true,
   "toc_window_display": false
  }
 },
 "nbformat": 4,
 "nbformat_minor": 4
}
